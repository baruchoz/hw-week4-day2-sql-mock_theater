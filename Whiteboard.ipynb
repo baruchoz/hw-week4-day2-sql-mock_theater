{
 "cells": [
  {
   "cell_type": "markdown",
   "id": "d6819bfb",
   "metadata": {},
   "source": [
    "#Given two strings, return true if they are anagrams of eachother, and false otherwise.\n",
    "s1 = \"anagram\"\n",
    "t1 = \"nagaram\"\n",
    "# Output:\n",
    "# True\n",
    "s2 = \"rat\"\n",
    "t2 = \"car\"\n",
    "#Output:\n",
    "# False"
   ]
  },
  {
   "cell_type": "code",
   "execution_count": 8,
   "id": "e88cb396",
   "metadata": {},
   "outputs": [],
   "source": [
    "def is_anagram(s, t):\n",
    "    if(sorted(s)== sorted(t)):\n",
    "        return True\n",
    "    else:\n",
    "        return False    \n",
    "\n",
    "s = \"anagram\"\n",
    "t = \"nagarams\"\n",
    "is_anagram(s, t)"
   ]
  },
  {
   "cell_type": "code",
   "execution_count": 9,
   "id": "138e420e",
   "metadata": {},
   "outputs": [
    {
     "name": "stdout",
     "output_type": "stream",
     "text": [
      "True\n",
      "False\n"
     ]
    }
   ],
   "source": [
    "def anagram(s1, s2):\n",
    "    # ana1 = len(s1)\n",
    "    # ana2 = len(s2)\n",
    "    # if ana1 != ana2:   \n",
    "    #     return False\n",
    "    s1 = sorted(s1)\n",
    "    s2 = sorted(s2)\n",
    "    if s1 == s2:\n",
    "        return True\n",
    "    else: \n",
    "        return False\n",
    "print(anagram('anagram', 'nagaram'))\n",
    "print(anagram('rat', 'car'))"
   ]
  },
  {
   "cell_type": "code",
   "execution_count": 12,
   "id": "92cf3d75",
   "metadata": {},
   "outputs": [
    {
     "name": "stdout",
     "output_type": "stream",
     "text": [
      "The words are anagrams.\n",
      "The words are not anagrams.\n"
     ]
    }
   ],
   "source": [
    "def anagram(s, t):\n",
    "    l1 = []\n",
    "    l2 = []\n",
    "    for x in s:\n",
    "        l1.append(x)\n",
    "    for y in t:\n",
    "        l2.append(y)\n",
    "    l1.sort()\n",
    "    l2.sort()\n",
    "    if l1 == l2:\n",
    "        print(\"The words are anagrams.\")\n",
    "    else:\n",
    "        print(\"The words are not anagrams.\")\n",
    "\n",
    "anagram('anagram', 'nagaram')\n",
    "anagram('car','rat')"
   ]
  }
 ],
 "metadata": {
  "kernelspec": {
   "display_name": "Python 3",
   "language": "python",
   "name": "python3"
  },
  "language_info": {
   "codemirror_mode": {
    "name": "ipython",
    "version": 3
   },
   "file_extension": ".py",
   "mimetype": "text/x-python",
   "name": "python",
   "nbconvert_exporter": "python",
   "pygments_lexer": "ipython3",
   "version": "3.8.8"
  }
 },
 "nbformat": 4,
 "nbformat_minor": 5
}
